{
  "nbformat": 4,
  "nbformat_minor": 0,
  "metadata": {
    "colab": {
      "name": "Mnist.ipynb",
      "provenance": [],
      "collapsed_sections": [],
      "authorship_tag": "ABX9TyMJymu+vwzTTd9W3KE4gjNU",
      "include_colab_link": true
    },
    "kernelspec": {
      "name": "python3",
      "display_name": "Python 3"
    }
  },
  "cells": [
    {
      "cell_type": "markdown",
      "metadata": {
        "id": "view-in-github",
        "colab_type": "text"
      },
      "source": [
        "<a href=\"https://colab.research.google.com/github/MaheepChaudhary/Machine-Learning-Projects/blob/master/Mnist.ipynb\" target=\"_parent\"><img src=\"https://colab.research.google.com/assets/colab-badge.svg\" alt=\"Open In Colab\"/></a>"
      ]
    },
    {
      "cell_type": "code",
      "metadata": {
        "id": "6YCBqLpHzZge",
        "colab_type": "code",
        "colab": {}
      },
      "source": [
        "#importing the needed libraries:-\n",
        "!pip install tensorflow \n",
        "import tensorflow as tf\n",
        "import keras\n",
        "import numpy as np"
      ],
      "execution_count": 0,
      "outputs": []
    },
    {
      "cell_type": "code",
      "metadata": {
        "id": "rjA-rbSD1h1J",
        "colab_type": "code",
        "colab": {}
      },
      "source": [
        "#loading the model and dataset\n",
        "model = tf.keras.models.Sequential()\n",
        "data = tf.keras.datasets.mnist\n",
        "(x_train,y_train),(x_test,y_test) = data.load_data()\n",
        "\n",
        "#adding the layers with the functions\n",
        "model.add(tf.keras.layers.Flatten())\n",
        "model.add(tf.keras.layers.Dense(128, activation='relu'))\n",
        "model.add(tf.keras.layers.Dense(128, activation = \"relu\"))\n",
        "model.add(tf.keras.layers.Dense(10, activation = \"softmax\"))\n",
        "\n",
        "#compiling the model\n",
        "model.compile(optimizer=\"adam\",loss=\"sparse_categorical_crossentropy\",metrics=[\"accuracy\"])\n"
      ],
      "execution_count": 0,
      "outputs": []
    },
    {
      "cell_type": "code",
      "metadata": {
        "id": "XFJouXRf_Ial",
        "colab_type": "code",
        "outputId": "71ce6afa-8a71-43db-c248-1c36a19fef27",
        "colab": {
          "base_uri": "https://localhost:8080/",
          "height": 650
        }
      },
      "source": [
        "import matplotlib.pyplot as plt\n",
        "plt.imshow(x_train[0])\n",
        "plt.show()\n",
        "plt.imshow(x_train[0],cmap = plt.cm.binary)\n",
        "plt.show()\n",
        "\n",
        "#normalizing the value before fitting it in the model\n",
        "x = tf.keras.utils.normalize(x_train)\n",
        "x_ = tf.keras.utils.normalize(x_test)\n",
        "\n",
        "#fitting the data in the model\n",
        "model.fit(x,y_train,epochs=3)\n"
      ],
      "execution_count": 0,
      "outputs": [
        {
          "output_type": "display_data",
          "data": {
            "image/png": "[encoded data removed]",
            "text/plain": [
              "<Figure size 432x288 with 1 Axes>"
            ]
          },
          "metadata": {
            "tags": []
          }
        },
        {
          "output_type": "display_data",
          "data": {
            "image/png": "[encoded data removed]",
            "text/plain": [
              "<Figure size 432x288 with 1 Axes>"
            ]
          },
          "metadata": {
            "tags": []
          }
        },
        {
          "output_type": "stream",
          "text": [
            "Train on 60000 samples\n",
            "Epoch 1/3\n",
            "60000/60000 [==============================] - 5s 91us/sample - loss: 0.0553 - acc: 0.9822\n",
            "Epoch 2/3\n",
            "60000/60000 [==============================] - 5s 91us/sample - loss: 0.0429 - acc: 0.9861\n",
            "Epoch 3/3\n",
            "60000/60000 [==============================] - 5s 84us/sample - loss: 0.0362 - acc: 0.9879\n"
          ],
          "name": "stdout"
        },
        {
          "output_type": "execute_result",
          "data": {
            "text/plain": [
              "<tensorflow.python.keras.callbacks.History at 0x7f7c5c51beb8>"
            ]
          },
          "metadata": {
            "tags": []
          },
          "execution_count": 62
        }
      ]
    },
    {
      "cell_type": "code",
      "metadata": {
        "id": "ad3cIi3L6etO",
        "colab_type": "code",
        "outputId": "e8b61796-dda6-476c-e4a9-63a141bfa954",
        "colab": {
          "base_uri": "https://localhost:8080/",
          "height": 51
        }
      },
      "source": [
        "#evaluating our model\n",
        "val_loss,val_acc=model.evaluate(x_,y_test)\n",
        "print(val_loss,val_acc,end=\" \")\n"
      ],
      "execution_count": 0,
      "outputs": [
        {
          "output_type": "stream",
          "text": [
            "10000/10000 [==============================] - 0s 43us/sample - loss: 0.0903 - acc: 0.9717\n",
            "0.09028020661110059 0.9717 "
          ],
          "name": "stdout"
        }
      ]
    },
    {
      "cell_type": "code",
      "metadata": {
        "id": "Sc-U126s8Fy2",
        "colab_type": "code",
        "outputId": "60b21c59-d74e-4ae4-9271-9eb0cb2ad721",
        "colab": {
          "base_uri": "https://localhost:8080/",
          "height": 282
        }
      },
      "source": [
        "#predicting the value\n",
        "prediction=model.predict(x_train)\n",
        "plt.imshow(x_train[-1])\n",
        "plt.show()\n",
        "print(prediction[-1].argmax())"
      ],
      "execution_count": 0,
      "outputs": [
        {
          "output_type": "display_data",
          "data": {
            "image/png": "[encoded data removed]",
            "text/plain": [
              "<Figure size 432x288 with 1 Axes>"
            ]
          },
          "metadata": {
            "tags": []
          }
        },
        {
          "output_type": "stream",
          "text": [
            "8\n"
          ],
          "name": "stdout"
        }
      ]
    }
  ]
}